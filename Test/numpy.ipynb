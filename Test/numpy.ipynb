{
 "cells": [
  {
   "metadata": {
    "collapsed": true,
    "ExecuteTime": {
     "end_time": "2025-05-23T06:00:38.135641Z",
     "start_time": "2025-05-23T06:00:38.132185Z"
    }
   },
   "cell_type": "code",
   "source": [
    "import math\n",
    "import numpy as np\n",
    "print(\"hello world\")\n",
    "a = 12;"
   ],
   "id": "initial_id",
   "outputs": [
    {
     "name": "stdout",
     "output_type": "stream",
     "text": [
      "hello world\n"
     ]
    }
   ],
   "execution_count": 2
  },
  {
   "metadata": {
    "ExecuteTime": {
     "end_time": "2025-05-23T06:00:42.631841Z",
     "start_time": "2025-05-23T06:00:42.619944Z"
    }
   },
   "cell_type": "code",
   "source": [
    "print(a+12)\n",
    "\n",
    "print(math.pi)\n",
    "# 创建一维数组\n",
    "a = np.array([1, 2, 3])\n",
    "print(\"一维数组a:\", a)\n",
    "\n",
    "# 创建二维数组\n",
    "b = np.array([[1, 2], [3, 4]])\n",
    "print(\"二维数组b:\\n\", b)\n",
    "\n",
    "# 数组的常用属性\n",
    "print(\"数组a的维度:\", a.ndim)\n",
    "print(\"数组b的形状:\", b.shape)\n",
    "print(\"数组a的元素个数:\", a.size)\n",
    "print(\"数组b的数据类型:\", b.dtype)\n",
    "\n",
    "# 特殊数组创建\n",
    "c = np.zeros((2, 3))  # 全零数组\n",
    "d = np.ones((3, 2))   # 全一数组\n",
    "e = np.eye(3)         # 单位矩阵\n",
    "print(\"全零数组c:\\n\", c)\n",
    "print(\"全一数组d:\\n\", d)\n",
    "print(\"单位矩阵e:\\n\", e)\n",
    "\n",
    "# 数组操作\n",
    "f = np.arange(0, 10, 2)  # 类似range，生成等差数列\n",
    "g = np.linspace(0, 10, 5)  # 生成指定数量的等分数列\n",
    "print(\"arange生成f:\", f)\n",
    "print(\"linspace生成g:\", g)\n",
    "\n",
    "# 数组运算\n",
    "h = a + 2\n",
    "i = a * 2\n",
    "j = a ** 2\n",
    "k = np.sin(a)\n",
    "print(\"数组运算：\")\n",
    "print(\"a+2:\", h)\n",
    "print(\"a*2:\", i)\n",
    "print(\"a^2:\", j)\n",
    "print(\"sin(a):\", k)\n",
    "\n",
    "# 矩阵乘法\n",
    "l = np.dot(b, b.T)  # 矩阵与转置矩阵相乘\n",
    "print(\"矩阵b与其转置的乘积:\\n\", l)\n",
    "\n",
    "# 随机数生成\n",
    "m = np.random.rand(2, 3)  # 生成[0,1)区间内的随机数组\n",
    "n = np.random.randn(2, 3)  # 生成正态分布的随机数组\n",
    "print(\"随机数组m:\\n\", m)\n",
    "print(\"正态分布数组n:\\n\", n)\n",
    "\n",
    "# 统计运算\n",
    "o = np.array([[1, 2], [3, 4]])\n",
    "print(\"数组o的求和:\", np.sum(o))\n",
    "print(\"数组o按列求和:\", np.sum(o, axis=0))\n",
    "print(\"数组o按行求和:\", np.sum(o, axis=1))\n",
    "print(\"数组o的平均值:\", np.mean(o))\n",
    "print(\"数组o的最小值:\", np.min(o))\n",
    "print(\"数组o的最大值:\", np.max(o))\n"
   ],
   "id": "f4746d5d06471392",
   "outputs": [
    {
     "name": "stdout",
     "output_type": "stream",
     "text": [
      "24\n",
      "3.141592653589793\n",
      "一维数组a: [1 2 3]\n",
      "二维数组b:\n",
      " [[1 2]\n",
      " [3 4]]\n",
      "数组a的维度: 1\n",
      "数组b的形状: (2, 2)\n",
      "数组a的元素个数: 3\n",
      "数组b的数据类型: int32\n",
      "全零数组c:\n",
      " [[0. 0. 0.]\n",
      " [0. 0. 0.]]\n",
      "全一数组d:\n",
      " [[1. 1.]\n",
      " [1. 1.]\n",
      " [1. 1.]]\n",
      "单位矩阵e:\n",
      " [[1. 0. 0.]\n",
      " [0. 1. 0.]\n",
      " [0. 0. 1.]]\n",
      "arange生成f: [0 2 4 6 8]\n",
      "linspace生成g: [ 0.   2.5  5.   7.5 10. ]\n",
      "数组运算：\n",
      "a+2: [3 4 5]\n",
      "a*2: [2 4 6]\n",
      "a^2: [1 4 9]\n",
      "sin(a): [0.84147098 0.90929743 0.14112001]\n",
      "矩阵b与其转置的乘积:\n",
      " [[ 5 11]\n",
      " [11 25]]\n",
      "随机数组m:\n",
      " [[0.87097237 0.98763965 0.25641602]\n",
      " [0.01940616 0.83253396 0.01345435]]\n",
      "正态分布数组n:\n",
      " [[-0.3157346   0.74962735 -0.21970771]\n",
      " [-0.79631953  2.02804422 -1.01230374]]\n",
      "数组o的求和: 10\n",
      "数组o按列求和: [4 6]\n",
      "数组o按行求和: [3 7]\n",
      "数组o的平均值: 2.5\n",
      "数组o的最小值: 1\n",
      "数组o的最大值: 4\n"
     ]
    }
   ],
   "execution_count": 3
  }
 ],
 "metadata": {
  "kernelspec": {
   "display_name": "Python 3",
   "language": "python",
   "name": "python3"
  },
  "language_info": {
   "codemirror_mode": {
    "name": "ipython",
    "version": 2
   },
   "file_extension": ".py",
   "mimetype": "text/x-python",
   "name": "python",
   "nbconvert_exporter": "python",
   "pygments_lexer": "ipython2",
   "version": "2.7.6"
  }
 },
 "nbformat": 4,
 "nbformat_minor": 5
}
