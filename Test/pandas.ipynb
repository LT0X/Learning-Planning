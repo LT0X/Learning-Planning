{
 "cells": [
  {
   "cell_type": "code",
   "id": "initial_id",
   "metadata": {
    "collapsed": true,
    "ExecuteTime": {
     "end_time": "2025-05-22T14:35:54.406841Z",
     "start_time": "2025-05-22T14:35:54.400225Z"
    }
   },
   "source": [
    "import pandas as pd\n",
    "\n",
    "\n",
    "# 创建一个简单的 DataFrame\n",
    "data = {\n",
    "    'Name': ['Alice', 'Bob', 'Charlie'],\n",
    "    'Age': [25, 30, 35],\n",
    "    'City': ['New York', 'London', 'Tokyo']\n",
    "}\n",
    "df = pd.DataFrame(data)\n",
    "\n",
    "# 显示 DataFrame\n",
    "df\n",
    "\n",
    "# 常用操作示例：\n",
    "# 1. 查看前几行数据\n",
    "df.head()\n",
    "\n",
    "# 2. 查看后几行数据\n",
    "df.tail()\n",
    "\n",
    "# 3. 获取 DataFrame 的统计信息\n",
    "df.describe()\n",
    "\n",
    "# 4. 按列筛选数据\n",
    "df['Name']\n",
    "\n",
    "# 5. 多列筛选\n",
    "df[['Name', 'Age']]\n",
    "\n",
    "# 6. 按条件筛选数据\n",
    "df[df['Age'] > 30]\n",
    "\n",
    "# 7. 添加新列\n",
    "df['Country'] = ['USA', 'UK', 'Japan']\n",
    "\n",
    "# 8. 删除列\n",
    "df.drop('Country', axis=1, inplace=True)\n",
    "\n",
    "# 9. 处理缺失值（填充）\n",
    "df.fillna(0)\n",
    "\n",
    "# 10. 排序\n",
    "df.sort_values(by='Age', ascending=False)\n"
   ],
   "outputs": [
    {
     "data": {
      "text/plain": [
       "0      Alice\n",
       "1        Bob\n",
       "2    Charlie\n",
       "Name: Name, dtype: object"
      ]
     },
     "execution_count": 16,
     "metadata": {},
     "output_type": "execute_result"
    }
   ],
   "execution_count": 16
  },
  {
   "metadata": {},
   "cell_type": "code",
   "outputs": [],
   "execution_count": null,
   "source": "",
   "id": "434edd7f45dcaf91"
  }
 ],
 "metadata": {
  "kernelspec": {
   "display_name": "Python 3",
   "language": "python",
   "name": "python3"
  },
  "language_info": {
   "codemirror_mode": {
    "name": "ipython",
    "version": 2
   },
   "file_extension": ".py",
   "mimetype": "text/x-python",
   "name": "python",
   "nbconvert_exporter": "python",
   "pygments_lexer": "ipython2",
   "version": "2.7.6"
  }
 },
 "nbformat": 4,
 "nbformat_minor": 5
}
