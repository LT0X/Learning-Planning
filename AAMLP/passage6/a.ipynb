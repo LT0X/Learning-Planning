{
 "cells": [
  {
   "cell_type": "code",
   "id": "initial_id",
   "metadata": {
    "collapsed": true,
    "ExecuteTime": {
     "end_time": "2025-06-15T06:47:19.811124Z",
     "start_time": "2025-06-15T06:47:19.806733Z"
    }
   },
   "source": [
    "from sklearn.preprocessing import OneHotEncoder\n",
    "\n",
    "# 映射字典\n",
    "mapping = {\n",
    " \"Freezing\": 0, \n",
    "\"Warm\": 1, \n",
    "\"Cold\": 2,\n",
    " \"Boiling Hot\": 3, \n",
    "\"Hot\": 4,\n",
    " \"Lava Hot\": 5 \n",
    "}\n",
    "\n"
   ],
   "outputs": [],
   "execution_count": 1
  },
  {
   "metadata": {
    "ExecuteTime": {
     "end_time": "2025-06-15T06:57:07.895073Z",
     "start_time": "2025-06-15T06:57:06.330127Z"
    }
   },
   "cell_type": "code",
   "source": [
    "import pandas as pd\n",
    " # 读取数据\n",
    "df = pd.read_csv(\"../../dataset/passage6/train.csv\") \n",
    "# 取*ord_2*列，并使用映射将类别转换为数字\n",
    "df.loc[:, \"ord_2\"] = df[\"ord_2\"].map(mapping)\n",
    "df.ord_2.value_counts()\n"
   ],
   "id": "ebde2d9f2856ac17",
   "outputs": [
    {
     "data": {
      "text/plain": [
       "ord_2\n",
       "0.0    142726\n",
       "1.0    124239\n",
       "2.0     97822\n",
       "3.0     84790\n",
       "4.0     67508\n",
       "5.0     64840\n",
       "Name: count, dtype: int64"
      ]
     },
     "execution_count": 9,
     "metadata": {},
     "output_type": "execute_result"
    }
   ],
   "execution_count": 9
  },
  {
   "metadata": {
    "ExecuteTime": {
     "end_time": "2025-06-15T07:00:07.569972Z",
     "start_time": "2025-06-15T07:00:03.506387Z"
    }
   },
   "cell_type": "code",
   "source": [
    "import pandas as pd\n",
    "from sklearn import preprocessing \n",
    "# 读取数据\n",
    "df = pd.read_csv(\"../../dataset/passage6/train.csv\") \n",
    "# 将缺失值填充为\"NONE\"\n",
    "df.loc[:, \"ord_2\"] = df.ord_2.fillna(\"NONE\") \n",
    "# LabelEncoder编码\n",
    "lbl_enc = preprocessing.LabelEncoder()\n",
    " # 转换数据\n",
    "df.loc[:, \"ord_2\"] = lbl_enc.fit_transform(df.ord_2.values)\n",
    "\n",
    "\n",
    "\n",
    "\n"
   ],
   "id": "31fceefe6db716ec",
   "outputs": [],
   "execution_count": 10
  },
  {
   "metadata": {
    "ExecuteTime": {
     "end_time": "2025-06-15T07:27:56.194672Z",
     "start_time": "2025-06-15T07:27:56.189947Z"
    }
   },
   "cell_type": "code",
   "source": [
    "import numpy as np\n",
    "from scipy import sparse \n",
    "example = np.array( \n",
    "[\n",
    " [0, 0, 0, 0, 1, 0], \n",
    "[0, 1, 0, 0, 0, 0], \n",
    "[1, 0, 0, 0, 0, 0]\n",
    " ] \n",
    ")\n",
    "print(f\"Size of dense array: {example.nbytes}\") \n",
    "sparse_example = sparse.csr_matrix(example)\n",
    "print(f\"Size of sparse array: {sparse_example.data.nbytes}\") \n",
    "full_size = (\n",
    " sparse_example.data.nbytes +\n",
    " sparse_example.indptr.nbytes +\n",
    " sparse_example.indices.nbytes \n",
    ")\n",
    "print(f\"Full size of sparse array: {full_size}\")"
   ],
   "id": "67cc820795fa205",
   "outputs": [
    {
     "name": "stdout",
     "output_type": "stream",
     "text": [
      "Size of dense array: 72\n",
      "Size of sparse array: 12\n",
      "Full size of sparse array: 40\n"
     ]
    }
   ],
   "execution_count": 12
  },
  {
   "metadata": {
    "ExecuteTime": {
     "end_time": "2025-06-15T07:55:26.721518Z",
     "start_time": "2025-06-15T07:55:25.345719Z"
    }
   },
   "cell_type": "code",
   "source": [
    "import numpy as np\n",
    "from sklearn import preprocessing\n",
    " # 生成符合均匀分布的随机整数，维度为[1000000, 10000000]\n",
    "example = np.random.randint(1000, size=1000000)\n",
    "# 独热编码，非稀疏矩阵\n",
    "ohe = preprocessing.OneHotEncoder(sparse_output=False)\n",
    " # 将随机数组展平\n",
    "ohe_example = ohe.fit_transform(example.reshape(-1, 1))\n",
    "# dense_array = ohe_example.toarray()\n",
    "# print(f\"Size of dense array: {dense_array.nbytes} bytes\")\n",
    "\n",
    "print(f\"Size of dense array: {ohe_example.nbytes}\")\n",
    "# 独热编码，稀疏矩阵\n",
    "ohe = preprocessing.OneHotEncoder(sparse_output=True)\n",
    " # 将随机数组展平\n",
    "ohe_example = ohe.fit_transform(example.reshape(-1, 1))\n",
    "print(f\"Size of sparse array: {ohe_example.data.nbytes}\")\n",
    "full_size = (\n",
    " ohe_example.data.nbytes +\n",
    " ohe_example.indptr.nbytes +\n",
    "ohe_example.indices.nbytes\n",
    ")\n",
    "print(f\"Full size of sparse array: {full_size}\")"
   ],
   "id": "43153e916af040b3",
   "outputs": [
    {
     "name": "stdout",
     "output_type": "stream",
     "text": [
      "Size of dense array: 8000000000\n",
      "Size of sparse array: 8000000\n",
      "Full size of sparse array: 16000004\n"
     ]
    }
   ],
   "execution_count": 16
  },
  {
   "metadata": {},
   "cell_type": "code",
   "outputs": [],
   "execution_count": null,
   "source": "",
   "id": "66e648baa7c088ec"
  }
 ],
 "metadata": {
  "kernelspec": {
   "display_name": "Python 3",
   "language": "python",
   "name": "python3"
  },
  "language_info": {
   "codemirror_mode": {
    "name": "ipython",
    "version": 2
   },
   "file_extension": ".py",
   "mimetype": "text/x-python",
   "name": "python",
   "nbconvert_exporter": "python",
   "pygments_lexer": "ipython2",
   "version": "2.7.6"
  }
 },
 "nbformat": 4,
 "nbformat_minor": 5
}
