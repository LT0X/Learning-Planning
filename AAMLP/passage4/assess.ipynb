{
 "cells": [
  {
   "cell_type": "code",
   "id": "initial_id",
   "metadata": {
    "collapsed": true,
    "ExecuteTime": {
     "end_time": "2025-06-10T15:05:09.570842Z",
     "start_time": "2025-06-10T15:05:09.563717Z"
    }
   },
   "source": [
    "from nltk import accuracy\n",
    "\n",
    "\n",
    "def true_positive(y_true, y_pred):\n",
    "     # 初始化真阳性样本计数器\n",
    "    tp = 0\n",
    "     # 遍历y_true，y_pred中所有元素\n",
    "    for yt, yp in zip(y_true, y_pred): \n",
    "    #若真实标签为正类且预测标签也为正类，计数器增加\n",
    "        if yt==1 and yp==1:\n",
    "            tp += 1 \n",
    "    # 返回真阳性样本数\n",
    "    return tp\n",
    "\n",
    "def true_negative(y_true, y_pred): \n",
    "    # 初始化真阴性样本计数器\n",
    "    tn = 0\n",
    "     # 遍历y_true，y_pred中所有元素\n",
    "    for yt, yp in zip(y_true, y_pred): \n",
    "    # 若真实标签为负类且预测标签也为负类，计数器增加\n",
    "        if yt ==0 and yp ==0:\n",
    "            tn += 1 \n",
    "        # 返回真阴性样本数\n",
    "    return tn\n",
    "def false_positive(y_true, y_pred): \n",
    "    # 初始化假阳性计数器\n",
    "    fp = 0\n",
    "     # 遍历y_true，y_pred中所有元素\n",
    "    for yt, yp in zip(y_true, y_pred): \n",
    "    # 若真实标签为负类而预测标签为正类，计数器增加\n",
    "        if yt ==0 and yp ==1:\n",
    "            fp += 1 \n",
    "    # 返回假阳性样本数\n",
    "    return fp\n",
    "\n",
    "def false_negative(y_true, y_pred): \n",
    "    # 初始化假阴性计数器\n",
    "    fn = 0\n",
    "     # 遍历y_true，y_pred中所有元素\n",
    "    for yt, yp in zip(y_true, y_pred): \n",
    "    # 若真实标签为正类而预测标签为负类，计数器增加\n",
    "        if yt ==1 and yp ==0:\n",
    "            fn += 1 \n",
    "    # 返回假阴性样本数\n",
    "    return fn\n",
    "\n",
    "def accuracy_v2(y_true, y_pred):\n",
    "    # 真阳性样本数\n",
    "    tp = true_positive(y_true, y_pred)\n",
    "     # 假阳性样本数\n",
    "    fp = false_positive(y_true, y_pred)\n",
    "     # 假阴性样本数\n",
    "    fn = false_negative(y_true, y_pred)\n",
    "     # 真阴性样本数\n",
    "    tn = true_negative(y_true, y_pred)\n",
    "     # 准确率\n",
    "    accuracy_score = (tp + tn) / (tp + tn + fp + fn) \n",
    "    return accuracy_score\n",
    "\n",
    "def precision(y_true, y_pred):\n",
    "     # 真阳性样本数\n",
    "    tp = true_positive(y_true, y_pred) \n",
    "    # 假阳性样本数\n",
    "    fp = false_positive(y_true, y_pred)\n",
    "     # 精确率\n",
    "    precision = tp / (tp + fp)\n",
    "    return precision\n",
    "\n",
    "def recall(y_true, y_pred):\n",
    "    # 真阳性样本数\n",
    "    tp = true_positive(y_true, y_pred) \n",
    "    # 假阴性样本数\n",
    "    fn = false_negative(y_true, y_pred) \n",
    "    # 召回率\n",
    "    recall = tp / (tp + fn)\n",
    "    return recall\n",
    "def f1(y_true, y_pred):\n",
    "    # 计算精确率\n",
    "    p = precision(y_true, y_pred) \n",
    "    # 计算召回率\n",
    "    r = recall(y_true, y_pred)\n",
    "     # 计算f1值\n",
    "    score = 2 * p * r / (p + r) \n",
    "    return score\n",
    "\n",
    "def tpr(y_true, y_pred):\n",
    " # 真阳性率（TPR），与召回率计算公式一致\n",
    "    return recall(y_true, y_pred)\n",
    "def fpr(y_true, y_pred):\n",
    "    # 假阳性样本数\n",
    "    fp = false_positive(y_true, y_pred) \n",
    "    # 真阴性样本数\n",
    "    tn = true_negative(y_true, y_pred) \n",
    "    # 返回假阳性率（FPR）\n",
    "    return fp / (tn + fp)"
   ],
   "outputs": [],
   "execution_count": 18
  },
  {
   "metadata": {
    "ExecuteTime": {
     "end_time": "2025-06-10T14:28:54.198464Z",
     "start_time": "2025-06-10T14:28:54.193118Z"
    }
   },
   "cell_type": "code",
   "source": [
    "from sklearn import metrics\n",
    "\n",
    "l1 = [0,1,1,1,0,0,0,1]\n",
    "l2 = [0,1,0,1,0,1,0,0] \n",
    "print(true_positive(l1, l2))\n",
    "print(false_positive(l1, l2)) \n",
    "print(false_negative(l1, l2)) \n",
    "print(true_negative(l1, l2)) \n",
    "print(accuracy_v2(l1, l2))\n",
    "print(metrics.accuracy_score(l1, l2))\n",
    "print(precision(l1, l2))\n",
    "print(recall(l1, l2))\n",
    "\n",
    "\n"
   ],
   "id": "f67cb469b4a81c83",
   "outputs": [
    {
     "name": "stdout",
     "output_type": "stream",
     "text": [
      "2\n",
      "1\n",
      "2\n",
      "3\n",
      "0.625\n",
      "0.625\n",
      "0.6666666666666666\n",
      "0.5\n"
     ]
    }
   ],
   "execution_count": 14
  },
  {
   "metadata": {
    "ExecuteTime": {
     "end_time": "2025-06-10T14:37:23.921172Z",
     "start_time": "2025-06-10T14:37:23.739560Z"
    }
   },
   "cell_type": "code",
   "source": [
    "from matplotlib import pyplot as plt\n",
    "\n",
    "y_true = [0, 0, 0, 1, 0, 0, 0, 0, 0, 0, \n",
    "          1, 0, 0, 0, 0, 0, 0, 0, 1, 0]\n",
    "y_pred = [0.02638412, 0.11114267, 0.31620708,         \n",
    "          0.0490937, 0.0191491, 0.17554844,\n",
    "          0.15952202, 0.03819563, 0.11639273,\n",
    "          0.079377,  0.08584789, 0.39095342,\n",
    "          0.27259048, 0.03447096, 0.04644807,\n",
    "          0.03543574, 0.18521942, 0.05934905,\n",
    "          0.61977213, 0.33056815]\n",
    "\n",
    "precisions = [] \n",
    "recalls = []\n",
    "thresholds = [0.0490937 , 0.05934905, 0.079377,\n",
    " 0.08584789, 0.11114267, 0.11639273, \n",
    "0.15952202, 0.17554844, 0.18521942, \n",
    "0.27259048, 0.31620708, 0.33056815, \n",
    "0.39095342, 0.61977213]\n",
    "for i in thresholds:\n",
    "    # 计算精确率\n",
    "    temp_prediction = [1 if x >= i else 0 for x in y_pred]  \n",
    "    # 计算精确率\n",
    "    p = precision(y_true, temp_prediction) \n",
    "    # 计算召回率\n",
    "    r = recall(y_true, temp_prediction) \n",
    "    # 加入精确率列表\n",
    "    precisions.append(p)\n",
    "     # 加入召回率列表\n",
    "    recalls.append(r)\n",
    "    \n",
    "plt.figure(figsize=(7, 7))\n",
    " # x轴为召回率，y轴为精确率\n",
    "plt.plot(recalls, precisions)\n",
    " # 添加x轴标签，字体大小为15\n",
    "plt.xlabel('Recall', fontsize=15)\n",
    " # 添加y轴标签，字条大小为15\n",
    "plt.ylabel('Precision', fontsize=15)\n",
    "plt.show()\n"
   ],
   "id": "fa788e7e2a42b6db",
   "outputs": [
    {
     "data": {
      "text/plain": [
       "<Figure size 700x700 with 1 Axes>"
      ],
      "image/png": "[encoded data removed]"
     },
     "metadata": {},
     "output_type": "display_data"
    }
   ],
   "execution_count": 15
  },
  {
   "metadata": {
    "ExecuteTime": {
     "end_time": "2025-06-10T15:04:12.997406Z",
     "start_time": "2025-06-10T15:04:12.991781Z"
    }
   },
   "cell_type": "code",
   "source": [
    "y_true = [0, 0, 0, 1, 0, 0, 0, 0, 0, 0,\n",
    "         1, 0, 0, 0, 0, 0, 0, 0, 1, 0]\n",
    "y_pred = [0, 0, 1, 0, 0, 0, 1, 0, 0, 0,      \n",
    "         1, 0, 0, 0, 0, 0, 0, 0, 1, 0]\n",
    "f1(y_true, y_pred) \n"
   ],
   "id": "524b061288b3b18e",
   "outputs": [
    {
     "data": {
      "text/plain": [
       "0.5714285714285715"
      ]
     },
     "execution_count": 17,
     "metadata": {},
     "output_type": "execute_result"
    }
   ],
   "execution_count": 17
  },
  {
   "metadata": {
    "ExecuteTime": {
     "end_time": "2025-06-10T15:07:59.405472Z",
     "start_time": "2025-06-10T15:07:59.390937Z"
    }
   },
   "cell_type": "code",
   "source": [
    "import pandas as pd  # 初始化真阳性率列表\n",
    "tpr_list = [] \n",
    "# 初始化假阳性率列表\n",
    "fpr_list = []\n",
    " \n",
    "# 真实样本标签\n",
    "y_true = [0, 0, 0, 0, 1, 0, 1,\n",
    "          0, 0, 1, 0, 1, 0, 0, 1]\n",
    " \n",
    "# 预测样本为正类（1）的概率\n",
    "y_pred = [0.1, 0.3, 0.2, 0.6, 0.8, 0.05,\n",
    "          0.9, 0.5, 0.3, 0.66, 0.3, 0.2,\n",
    "          0.85, 0.15, 0.99]\n",
    " \n",
    "# 预测阈值\n",
    "thresholds = [0, 0.1, 0.2, 0.3, 0.4, 0.5,\n",
    "              0.6, 0.7, 0.8, 0.85, 0.9, 0.99, 1.0]\n",
    " \n",
    "# 遍历预测阈值\n",
    "for thresh in thresholds:\n",
    "    # 若样本为正类（1）的概率大于阈值，为1，否则为0\n",
    "    temp_pred = [1 if x >= thresh else 0 for x in y_pred] \n",
    "    # 真阳性率\n",
    "    temp_tpr = tpr(y_true, temp_pred)\n",
    "    # 假阳性率\n",
    "    temp_fpr = fpr(y_true, temp_pred)\n",
    "    # 将真阳性率加入列表\n",
    "    tpr_list.append(temp_tpr) \n",
    "    # 将假阳性率加入列表\n",
    "    fpr_list.append(temp_fpr)\n",
    "pd.DataFrame({'thresholds': thresholds,\n",
    "                   'tpr': tpr_list,\n",
    "                   'fpr': fpr_list})"
   ],
   "id": "23fdc7cc86d5bdb3",
   "outputs": [
    {
     "data": {
      "text/plain": [
       "    thresholds  tpr  fpr\n",
       "0         0.00  1.0  1.0\n",
       "1         0.10  1.0  0.9\n",
       "2         0.20  1.0  0.7\n",
       "3         0.30  0.8  0.6\n",
       "4         0.40  0.8  0.3\n",
       "5         0.50  0.8  0.3\n",
       "6         0.60  0.8  0.2\n",
       "7         0.70  0.6  0.1\n",
       "8         0.80  0.6  0.1\n",
       "9         0.85  0.4  0.1\n",
       "10        0.90  0.4  0.0\n",
       "11        0.99  0.2  0.0\n",
       "12        1.00  0.0  0.0"
      ],
      "text/html": [
       "<div>\n",
       "<style scoped>\n",
       "    .dataframe tbody tr th:only-of-type {\n",
       "        vertical-align: middle;\n",
       "    }\n",
       "\n",
       "    .dataframe tbody tr th {\n",
       "        vertical-align: top;\n",
       "    }\n",
       "\n",
       "    .dataframe thead th {\n",
       "        text-align: right;\n",
       "    }\n",
       "</style>\n",
       "<table border=\"1\" class=\"dataframe\">\n",
       "  <thead>\n",
       "    <tr style=\"text-align: right;\">\n",
       "      <th></th>\n",
       "      <th>thresholds</th>\n",
       "      <th>tpr</th>\n",
       "      <th>fpr</th>\n",
       "    </tr>\n",
       "  </thead>\n",
       "  <tbody>\n",
       "    <tr>\n",
       "      <th>0</th>\n",
       "      <td>0.00</td>\n",
       "      <td>1.0</td>\n",
       "      <td>1.0</td>\n",
       "    </tr>\n",
       "    <tr>\n",
       "      <th>1</th>\n",
       "      <td>0.10</td>\n",
       "      <td>1.0</td>\n",
       "      <td>0.9</td>\n",
       "    </tr>\n",
       "    <tr>\n",
       "      <th>2</th>\n",
       "      <td>0.20</td>\n",
       "      <td>1.0</td>\n",
       "      <td>0.7</td>\n",
       "    </tr>\n",
       "    <tr>\n",
       "      <th>3</th>\n",
       "      <td>0.30</td>\n",
       "      <td>0.8</td>\n",
       "      <td>0.6</td>\n",
       "    </tr>\n",
       "    <tr>\n",
       "      <th>4</th>\n",
       "      <td>0.40</td>\n",
       "      <td>0.8</td>\n",
       "      <td>0.3</td>\n",
       "    </tr>\n",
       "    <tr>\n",
       "      <th>5</th>\n",
       "      <td>0.50</td>\n",
       "      <td>0.8</td>\n",
       "      <td>0.3</td>\n",
       "    </tr>\n",
       "    <tr>\n",
       "      <th>6</th>\n",
       "      <td>0.60</td>\n",
       "      <td>0.8</td>\n",
       "      <td>0.2</td>\n",
       "    </tr>\n",
       "    <tr>\n",
       "      <th>7</th>\n",
       "      <td>0.70</td>\n",
       "      <td>0.6</td>\n",
       "      <td>0.1</td>\n",
       "    </tr>\n",
       "    <tr>\n",
       "      <th>8</th>\n",
       "      <td>0.80</td>\n",
       "      <td>0.6</td>\n",
       "      <td>0.1</td>\n",
       "    </tr>\n",
       "    <tr>\n",
       "      <th>9</th>\n",
       "      <td>0.85</td>\n",
       "      <td>0.4</td>\n",
       "      <td>0.1</td>\n",
       "    </tr>\n",
       "    <tr>\n",
       "      <th>10</th>\n",
       "      <td>0.90</td>\n",
       "      <td>0.4</td>\n",
       "      <td>0.0</td>\n",
       "    </tr>\n",
       "    <tr>\n",
       "      <th>11</th>\n",
       "      <td>0.99</td>\n",
       "      <td>0.2</td>\n",
       "      <td>0.0</td>\n",
       "    </tr>\n",
       "    <tr>\n",
       "      <th>12</th>\n",
       "      <td>1.00</td>\n",
       "      <td>0.0</td>\n",
       "      <td>0.0</td>\n",
       "    </tr>\n",
       "  </tbody>\n",
       "</table>\n",
       "</div>"
      ]
     },
     "execution_count": 23,
     "metadata": {},
     "output_type": "execute_result"
    }
   ],
   "execution_count": 23
  },
  {
   "metadata": {
    "ExecuteTime": {
     "end_time": "2025-06-10T15:10:10.679770Z",
     "start_time": "2025-06-10T15:10:10.600195Z"
    }
   },
   "cell_type": "code",
   "source": [
    "plt.figure(figsize=(7, 7))\n",
    " # x轴为召回率，y轴为精确率\n",
    "plt.plot(fpr_list, tpr_list)\n",
    " # 添加x轴标签，字体大小为15\n",
    "plt.xlabel('FPR', fontsize=15)\n",
    " # 添加y轴标签，字条大小为15\n",
    "plt.ylabel('TPR', fontsize=15)\n",
    "plt.show()"
   ],
   "id": "86ea4485dd3f99f6",
   "outputs": [
    {
     "data": {
      "text/plain": [
       "<Figure size 700x700 with 1 Axes>"
      ],
      "image/png": "[encoded data removed]"
     },
     "metadata": {},
     "output_type": "display_data"
    }
   ],
   "execution_count": 25
  },
  {
   "metadata": {
    "ExecuteTime": {
     "end_time": "2025-06-10T15:12:33.556729Z",
     "start_time": "2025-06-10T15:12:33.546374Z"
    }
   },
   "cell_type": "code",
   "source": [
    "from sklearn import metrics\n",
    "y_true = [0, 0, 0, 0, 1, 0, 1,         \n",
    "        0, 0, 1, 0, 1, 0, 0, 1]\n",
    "y_pred = [0.1, 0.3, 0.2, 0.6, 0.8, 0.05,        \n",
    "        0.9, 0.5, 0.3, 0.66, 0.3, 0.2,     \n",
    "        0.85, 0.15, 0.99]\n",
    "metrics.roc_auc_score(y_true, y_pred)"
   ],
   "id": "349a402b34699047",
   "outputs": [
    {
     "data": {
      "text/plain": [
       "0.8300000000000001"
      ]
     },
     "execution_count": 26,
     "metadata": {},
     "output_type": "execute_result"
    }
   ],
   "execution_count": 26
  }
 ],
 "metadata": {
  "kernelspec": {
   "display_name": "Python 3",
   "language": "python",
   "name": "python3"
  },
  "language_info": {
   "codemirror_mode": {
    "name": "ipython",
    "version": 2
   },
   "file_extension": ".py",
   "mimetype": "text/x-python",
   "name": "python",
   "nbconvert_exporter": "python",
   "pygments_lexer": "ipython2",
   "version": "2.7.6"
  }
 },
 "nbformat": 4,
 "nbformat_minor": 5
}
