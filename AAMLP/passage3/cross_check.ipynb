{
 "cells": [
  {
   "cell_type": "code",
   "id": "initial_id",
   "metadata": {
    "collapsed": true,
    "ExecuteTime": {
     "end_time": "2025-06-09T14:28:18.692912Z",
     "start_time": "2025-06-09T14:28:18.678893Z"
    }
   },
   "source": [
    "# 导入 pandas 和 scikit-learn 的 model_selection 模块\n",
    "import pandas as pd\n",
    "from sklearn import model_selection\n",
    "\n",
    "# 训练数据存储在名为 train.csv 的 CSV 文件中\n",
    "df = pd.read_csv(\"../dataset/archive/winequality-red.csv\")\n",
    "# 我们创建一个名为 kfold 的新列，并用 -1 填充\n",
    "df[\"kfold\"] = -1\n",
    "# 接下来的步骤是随机打乱数据的行\n",
    "df = df.sample(frac=1).reset_index(drop=True)\n",
    "# 从 model_selection 模块初始化 kfold 类\n",
    "kf = model_selection.KFold(n_splits=5)\n",
    "# 填充新的 kfold 列（enumerate的作用是返回一个迭代器）\n",
    "for fold, (trn_, val_) in enumerate(kf.split(X=df)):\n",
    "    df.loc[val_, 'kfold'] = fold\n",
    "    # 保存带有 kfold 列的新 CSV 文件\n",
    "df.to_csv(\"../dataset/cross_check_test/train_folds1.csv\", index=False)"
   ],
   "outputs": [],
   "execution_count": 22
  },
  {
   "metadata": {
    "ExecuteTime": {
     "end_time": "2025-06-09T14:49:35.129060Z",
     "start_time": "2025-06-09T14:49:35.107161Z"
    }
   },
   "cell_type": "code",
   "source": [
    "# 导入 pandas 和 scikit-learn 的 model_selection 模块\n",
    "import pandas as pd\n",
    "from sklearn import model_selection\n",
    " \n",
    "# 训练数据保存在名为 train.csv 的 CSV 文件中\n",
    "df = pd.read_csv(\"../dataset/archive/winequality-red.csv\",sep=';')\n",
    "# 添加一个新列 kfold，并用 -1 初始化\n",
    "df[\"kfold\"] = -1\n",
    "# 随机打乱数据行\n",
    "df = df.sample(frac=1).reset_index(drop=True)\n",
    "# 获取目标变量\n",
    "y = df.quality.values\n",
    "# 初始化 StratifiedKFold 类，设置折数（folds）为 5\n",
    "kf = model_selection.StratifiedKFold(n_splits=5)\n",
    "# 使用 StratifiedKFold 对象的 split 方法来获取训练和验证索引\n",
    "for f, (t_, v_) in enumerate(kf.split(X=df, y=y)):\n",
    "    df.loc[v_, 'kfold'] = f\n",
    "   \n",
    "    # 保存包含 kfold 列的新 CSV 文件\n",
    "df.to_csv(\"../dataset/cross_check_test/train_folds2.csv\", index=False)"
   ],
   "id": "89c7f181e3873518",
   "outputs": [
    {
     "name": "stdout",
     "output_type": "stream",
     "text": [
      "Fold: 0\n",
      "Fold: 1\n",
      "Fold: 2\n",
      "Fold: 3\n",
      "Fold: 4\n"
     ]
    }
   ],
   "execution_count": 28
  }
 ],
 "metadata": {
  "kernelspec": {
   "display_name": "Python 3",
   "language": "python",
   "name": "python3"
  },
  "language_info": {
   "codemirror_mode": {
    "name": "ipython",
    "version": 2
   },
   "file_extension": ".py",
   "mimetype": "text/x-python",
   "name": "python",
   "nbconvert_exporter": "python",
   "pygments_lexer": "ipython2",
   "version": "2.7.6"
  }
 },
 "nbformat": 4,
 "nbformat_minor": 5
}
