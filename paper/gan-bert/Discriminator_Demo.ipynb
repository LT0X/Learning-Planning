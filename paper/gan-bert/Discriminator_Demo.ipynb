{
 "cells": [
  {
   "cell_type": "markdown",
   "id": "93c7e877",
   "metadata": {},
   "source": [
    "# 判别器（Discriminator）详解与演示\n",
    "\n",
    "本教程将详细讲解 PyTorch 中判别器的实现和使用。判别器是生成对抗网络（GAN）中的重要组成部分，其主要作用是区分真实数据和生成的数据。\n",
    "\n",
    "在本例中，我们将实现一个能够对高维特征向量进行分类的判别器，这些向量可以是句子或其他类型的数据的表示。"
   ]
  },
  {
   "cell_type": "markdown",
   "id": "bf79e074",
   "metadata": {},
   "source": [
    "## 1. 导入必要的库\n",
    "\n",
    "首先，我们需要导入 PyTorch 相关的库和可视化工具。"
   ]
  },
  {
   "cell_type": "code",
   "execution_count": 2,
   "id": "827f4edc",
   "metadata": {},
   "outputs": [],
   "source": [
    "import torch\n",
    "import torch.nn as nn\n",
    "import matplotlib.pyplot as plt\n",
    "import seaborn as sns\n",
    "import numpy as np\n",
    "\n",
    "# 设置随机种子以保证结果可复现\n",
    "torch.manual_seed(42)\n",
    "\n",
    "# 设置显示中文字体\n",
    "plt.rcParams['font.sans-serif'] = ['SimHei']  # 用来正常显示中文标签\n",
    "plt.rcParams['axes.unicode_minus'] = False    # 用来正常显示负号"
   ]
  },
  {
   "cell_type": "markdown",
   "id": "a5bdc249",
   "metadata": {},
   "source": [
    "## 2. 定义判别器类\n",
    "\n",
    "下面我们将定义判别器类。这个判别器包含以下关键组件：\n",
    "- 全连接层（Linear layers）\n",
    "- LeakyReLU 激活函数\n",
    "- Dropout 层用于防止过拟合\n",
    "- Softmax 层用于输出概率分布"
   ]
  },
  {
   "cell_type": "code",
   "execution_count": null,
   "id": "10996afa",
   "metadata": {},
   "outputs": [],
   "source": [
    "class Discriminator(nn.Module):\n",
    "    def __init__(self, \n",
    "                 input_size,          # 输入特征维度（如 BERT 输出的 [CLS] 向量）\n",
    "                 hidden_sizes,      # 隐藏层结构\n",
    "                 num_labels,            # 实际类别数（不包含\n",
    "                 dropout_rate):       # dropout 防止过拟合\n",
    "        super(Discriminator, self).__init__()\n",
    "\n",
    "        # 输入特征的 dropout 层\n",
    "        self.input_dropout = nn.Dropout(p=dropout_rate)\n",
    "\n",
    "        # 构建隐藏层网络结构\n",
    "        layers = []\n",
    "        hidden_sizes = [input_size] + hidden_sizes  # 构造层次，如 [768, 768]\n",
    "        for i in range(len(hidden_sizes) - 1):\n",
    "            layers.extend([\n",
    "                nn.Linear(hidden_sizes[i], hidden_sizes[i+1]),     # 全连接层\n",
    "                nn.LeakyReLU(0.2, inplace=True),                   # 激活函数（相比 ReLU 更稳定）\n",
    "                nn.Dropout(dropout_rate)                           # Dropout\n",
    "            ])\n",
    "\n",
    "        # 封装为顺序模型\n",
    "        self.layers = nn.Sequential(*layers)\n",
    "\n",
    "        # 最后输出层：k 个真实类别 + 1 个\n",
    "        self.logit = nn.Linear(hidden_sizes[-1], num_labels + 1)\n",
    "\n",
    "        # softmax 函数把原始模型输出（通常是未经缩放的“logits”）转换为各类别的概率；\n",
    "        self.softmax = nn.Softmax(dim=-1)\n",
    "\n",
    "    def forward(self, input_rep):\n",
    "        \"\"\"\n",
    "        输入：input_rep 是来自 BERT 或生成器的句子向量表示\n",
    "        输出：\n",
    "          - last_rep: 判别器提取的深层特征（用于 feature matching）\n",
    "          - logits: 未归一化的分类分数\n",
    "          - probs: softmax 后的预测概率（包括第 k+1 类）\n",
    "        \"\"\"\n",
    "        input_rep = self.input_dropout(input_rep)\n",
    "        last_rep = self.layers(input_rep)       # 中间特征表示\n",
    "        logits = self.logit(last_rep)           # 分类器输出 logits\n",
    "        probs = self.softmax(logits)            # softmax 得到概率分布  \n",
    "\n",
    "        return last_rep, logits, probs"
   ]
  },
  {
   "cell_type": "code",
   "execution_count": 13,
   "id": "f7e76c92",
   "metadata": {},
   "outputs": [
    {
     "name": "stdout",
     "output_type": "stream",
     "text": [
      "判别器结构：\n",
      "Discriminator(\n",
      "  (input_dropout): Dropout(p=0.1, inplace=False)\n",
      "  (layers): Sequential(\n",
      "    (0): Linear(in_features=768, out_features=768, bias=True)\n",
      "    (1): LeakyReLU(negative_slope=0.2, inplace=True)\n",
      "    (2): Dropout(p=0.1, inplace=False)\n",
      "    (3): Linear(in_features=768, out_features=1028, bias=True)\n",
      "    (4): LeakyReLU(negative_slope=0.2, inplace=True)\n",
      "    (5): Dropout(p=0.1, inplace=False)\n",
      "    (6): Linear(in_features=1028, out_features=768, bias=True)\n",
      "    (7): LeakyReLU(negative_slope=0.2, inplace=True)\n",
      "    (8): Dropout(p=0.1, inplace=False)\n",
      "  )\n",
      "  (logit): Linear(in_features=768, out_features=6, bias=True)\n",
      "  (softmax): Softmax(dim=-1)\n",
      ")\n"
     ]
    }
   ],
   "source": [
    "# 创建判别器实例\n",
    "discriminator = Discriminator(\n",
    "    input_size=768,     # 输入维度为768（与BERT等预训练模型的隐藏层维度相匹配）\n",
    "    hidden_sizes=[768,1028,768], # 三层隐藏层\n",
    "    num_labels=5,       # 分类数为5\n",
    "    dropout_rate=0.1    # 10%的dropout率\n",
    ")\n",
    "\n",
    "# 打印判别器结构以查看网络架构\n",
    "print(\"判别器结构：\")\n",
    "print(discriminator)"
   ]
  },
  {
   "cell_type": "markdown",
   "id": "aa639d9f",
   "metadata": {},
   "source": [
    "## 4. 测试判别器的功能\n",
    "\n",
    "现在我们将创建一些模拟的输入数据，并通过判别器进行处理，观察输出结果。"
   ]
  },
  {
   "cell_type": "code",
   "execution_count": 14,
   "id": "87f82939",
   "metadata": {},
   "outputs": [
    {
     "name": "stdout",
     "output_type": "stream",
     "text": [
      "\n",
      "中间特征维度： torch.Size([16, 768])\n",
      "\n",
      "分类logits维度：\n",
      " torch.Size([16, 6])\n",
      "\n",
      "预测概率维度：\n",
      " torch.Size([16, 6])\n"
     ]
    }
   ],
   "source": [
    "# 创建一个batch的模拟输入数据（假设batch_size=16）\n",
    "batch_size = 16\n",
    "mock_input = torch.randn(batch_size, 768)  # 随机生成16个768维的向量\n",
    "\n",
    "# 通过判别器处理数据\n",
    "with torch.no_grad():  # 不计算梯度\n",
    "    last_rep, logits, probs = discriminator(mock_input)\n",
    "\n",
    "# 打印结果\n",
    "print(\"\\n中间特征维度：\", last_rep.shape)\n",
    "print(\"\\n分类logits维度：\\n\", logits.shape)\n",
    "print(\"\\n预测概率维度：\\n\", probs.shape)\n",
    "\n"
   ]
  }
 ],
 "metadata": {
  "kernelspec": {
   "display_name": "pytest",
   "language": "python",
   "name": "python3"
  },
  "language_info": {
   "codemirror_mode": {
    "name": "ipython",
    "version": 3
   },
   "file_extension": ".py",
   "mimetype": "text/x-python",
   "name": "python",
   "nbconvert_exporter": "python",
   "pygments_lexer": "ipython3",
   "version": "3.10.14"
  }
 },
 "nbformat": 4,
 "nbformat_minor": 5
}
